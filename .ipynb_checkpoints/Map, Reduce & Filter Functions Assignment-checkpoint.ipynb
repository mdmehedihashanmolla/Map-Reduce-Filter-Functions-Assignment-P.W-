{
 "cells": [
  {
   "cell_type": "markdown",
   "id": "447aba78",
   "metadata": {},
   "source": [
    "### Q1. Create a python program to sort the given list of tuples based on integer value using a lambda function."
   ]
  },
  {
   "cell_type": "code",
   "execution_count": 8,
   "id": "fe574747",
   "metadata": {},
   "outputs": [],
   "source": [
    "# [('Sachin Tendulkar', 34357), ('Ricky Ponting', 27483), ('Jack Kallis', 25534), ('Virat Kohli', 24936)]\n",
    "\n",
    "def Sorting():\n",
    "    \n",
    "    l = [('Sachin Tendulkar', 34357), ('Ricky Ponting', 27483), ('Jack Kallis', 25534), ('Virat Kohli', 24936)]\n",
    "    l.sort( key = lambda x:x[1])\n",
    "    return l\n",
    "Sorting()\n",
    "\n"
   ]
  },
  {
   "cell_type": "markdown",
   "id": "9c8ca01a",
   "metadata": {},
   "source": [
    "### Q2. Write a Python program to find the squares of all the numbers in the given list of integers using lambda and map functions."
   ]
  },
  {
   "cell_type": "code",
   "execution_count": 2,
   "id": "125fec5b",
   "metadata": {},
   "outputs": [],
   "source": [
    "# [1,2,3,4,5,6,7,8,9,10]\n",
    "def find_square(l):\n",
    "    l = [1,2,3,4,5,6,7,8,9,10]\n",
    "    r = list(map(lambda x: x**2, l))\n",
    "    return r\n",
    "    \n",
    "find_square(l)\n"
   ]
  },
  {
   "cell_type": "markdown",
   "id": "dc331c40",
   "metadata": {},
   "source": [
    "### Q3. Write a python program to convert the given list of integers into a tuple of strings. Use map and lambda functions"
   ]
  },
  {
   "cell_type": "code",
   "execution_count": null,
   "id": "055cc7a9",
   "metadata": {},
   "outputs": [],
   "source": [
    "def tuple_string(lst):\n",
    "    \n",
    "    lst = [1,2,3,4,5,6,7,8,9,10]\n",
    "    r = tuple(map(lambda x: str(x), lst))\n",
    "    return r\n",
    "tuple_string(lst)\n",
    "    "
   ]
  },
  {
   "cell_type": "markdown",
   "id": "880fd115",
   "metadata": {},
   "source": [
    "### Q4. Write a python program using reduce function to compute the products of a list containing numbers from  1 to 25 ."
   ]
  },
  {
   "cell_type": "code",
   "execution_count": null,
   "id": "8413afa2",
   "metadata": {},
   "outputs": [],
   "source": [
    "from functools import reduce\n",
    "def reduce_Func(a,b):\n",
    "    return a*b\n",
    "l = list(range(1,26))\n",
    "\n",
    "\n",
    "reduce(reduce_Func,l)\n",
    "    \n",
    "\n",
    "    "
   ]
  },
  {
   "cell_type": "markdown",
   "id": "dbdbfed5",
   "metadata": {},
   "source": [
    "### Q5. Write a python program to filter the numbers in a given list that are divisible by 2 and 3 using the filter functions."
   ]
  },
  {
   "cell_type": "code",
   "execution_count": null,
   "id": "4a359845",
   "metadata": {},
   "outputs": [],
   "source": [
    "# [2,3,4,5,27,60,90,120,55,46]\n",
    "\n",
    "def divisible_num():\n",
    "    l = [2,3,4,5,27,60,90,120,55,46]\n",
    "    l1 = list(filter(lambda x: x % 3 == 0 and x % 2 == 0, l ))\n",
    "    return l1 \n",
    "divisible_num()    "
   ]
  },
  {
   "cell_type": "markdown",
   "id": "8b055360",
   "metadata": {},
   "source": [
    "### Q6. Write a python program to find palindomes in the given list of strings using lambda and filter functions."
   ]
  },
  {
   "cell_type": "code",
   "execution_count": null,
   "id": "9e2735ca",
   "metadata": {},
   "outputs": [],
   "source": [
    "# ['python', 'php', 'aba', 'radar', 'level']\n",
    "def Palindrome(lst):\n",
    "    lst = ['python', 'php', 'aba', 'radar', 'level']\n",
    "    palin = lambda s: s == s[::-1]\n",
    "    \n",
    "    palindrome = list(filter(palin, lst))\n",
    "    return palindrome\n",
    "Palindrome(lst)"
   ]
  },
  {
   "cell_type": "code",
   "execution_count": null,
   "id": "627cb9cb",
   "metadata": {},
   "outputs": [],
   "source": [
    "\n",
    "    \n",
    "    "
   ]
  },
  {
   "cell_type": "code",
   "execution_count": null,
   "id": "8e0622d6",
   "metadata": {},
   "outputs": [],
   "source": [
    "# Without Using the Filter Functions\n",
    "lst = ['python', 'php', 'aba', 'radar', 'level']\n",
    "for i in lst:\n",
    "    palin = (i[::-1])\n",
    "    \n",
    "    \n",
    "    if palin == i:\n",
    "        print(i, \" = is a Palindrome\")\n",
    "    else:\n",
    "        print(i, \" = is not a Palindrome\")"
   ]
  },
  {
   "cell_type": "code",
   "execution_count": null,
   "id": "2b3438c6",
   "metadata": {},
   "outputs": [],
   "source": []
  }
 ],
 "metadata": {
  "kernelspec": {
   "display_name": "Python 3 (ipykernel)",
   "language": "python",
   "name": "python3"
  },
  "language_info": {
   "codemirror_mode": {
    "name": "ipython",
    "version": 3
   },
   "file_extension": ".py",
   "mimetype": "text/x-python",
   "name": "python",
   "nbconvert_exporter": "python",
   "pygments_lexer": "ipython3",
   "version": "3.10.7"
  }
 },
 "nbformat": 4,
 "nbformat_minor": 5
}
